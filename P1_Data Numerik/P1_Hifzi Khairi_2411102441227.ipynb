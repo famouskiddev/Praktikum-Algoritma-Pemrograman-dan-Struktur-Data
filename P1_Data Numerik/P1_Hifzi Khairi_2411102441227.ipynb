{
 "cells": [
  {
   "cell_type": "markdown",
   "id": "f19e9420-fb52-496b-9360-72836109d9b5",
   "metadata": {},
   "source": [
    "# **LAPORAN PRAKTIKUM 1**  \n",
    "## **ALGORITMA & STRUKTUR DATA – DATA NUMERIK**  \n",
    "### **Program Studi Teknik Informatika – Universitas Muhammadiyah Kalimantan Timur**  \n",
    "\n",
    "---\n",
    "\n"
   ]
  },
  {
   "cell_type": "markdown",
   "id": "3a120962-0d8c-4812-8790-d397b7b945d0",
   "metadata": {},
   "source": [
    "## Identitas Mahasiswa\n",
    "NAMA    : Hifzi Khairi\n",
    "\n",
    "NIM     : 2411102441227\n",
    "\n",
    "KELAS   : B\n",
    "\n",
    "---"
   ]
  },
  {
   "cell_type": "markdown",
   "id": "b44fcfba-b950-4a24-a67e-5bf9c0f8901c",
   "metadata": {},
   "source": [
    "## **1. Pendahuluan**  \n",
    "### **1.1 Latar Belakang**  \n",
    "Dalam pemrograman, data numerik sangat penting karena digunakan dalam berbagai operasi matematika dan logika. Python menyediakan beberapa tipe data numerik seperti **integer (`int`)**, **float (`float`)**, dan **complex (`complex`)**. Praktikum ini bertujuan untuk memahami bagaimana cara kerja tipe data numerik di Python serta bagaimana penggunaannya dalam program.  \n",
    "\n",
    "### **1.2 Tujuan Praktikum**  \n",
    "Mahasiswa diharapkan mampu:  \n",
    "^ Memahami konsep dasar Python 3.  \n",
    "^ Mengenal dan menggunakan tipe data numerik (`int`, `float`, `complex`).  \n",
    "^ Menjalankan perintah dasar Python untuk operasi bilangan.  \n",
    "^ Mengonversi data numerik dari satu bentuk ke bentuk lain.  \n",
    "^ Menganalisis hasil dari operasi numerik menggunakan Python.  \n",
    "\n",
    "💡 **Tips:**  \n",
    "- Jangan hanya menjalankan kode, tetapi pahami setiap barisnya!  \n",
    "- Pastikan laporan memiliki **analisis yang jelas** terhadap hasil percobaan.  \n",
    "- Gunakan Markdown untuk menulis deskripsi di dalam Jupyter Notebook agar lebih rapi.  \n",
    "\n",
    "---\n",
    "\n",
    "## **2. Materi Praktikum**  \n",
    "### **2.1 Review Python 3**  \n",
    "Python adalah bahasa pemrograman tingkat tinggi yang mudah dipelajari dan digunakan. Beberapa tipe data utama dalam Python adalah:  \n",
    "- **Numbers (Angka) → `int`, `float`, `complex`**  \n",
    "- **String (Teks) → `str`**  \n",
    "- **List (Daftar)**  \n",
    "- **Tuple (Urutan tidak bisa diubah)**  \n",
    "- **Dictionary (Kumpulan data berbasis key-value)**  \n",
    "\n",
    "### **2.2 Tipe Data Numerik dalam Python**  \n",
    "Python memiliki tiga tipe data numerik utama:  \n",
    "1. **Integer (`int`)**  \n",
    "   - Bilangan bulat seperti `10`, `-5`, `1000`.  \n",
    "   - Tidak memiliki koma desimal.  \n",
    "   - Bisa dicek jumlah bit-nya dengan `.bit_length()`.  \n",
    "   \n",
    "2. **Float (`float`)**  \n",
    "   - Bilangan desimal seperti `3.14`, `-0.5`, `10.0`.  \n",
    "   - Digunakan untuk angka pecahan.  \n",
    "   \n",
    "3. **Complex (`complex`)**  \n",
    "   - Bilangan kompleks seperti `3 + 4j`, di mana `3` adalah bagian real dan `4j` adalah bagian imajiner.  \n",
    "   - Python secara otomatis mengenali bilangan kompleks dengan `j` sebagai imajiner.  \n",
    "\n",
    "---\n"
   ]
  },
  {
   "cell_type": "code",
   "execution_count": 140,
   "id": "54dfbd01-ee1b-4b2a-a309-aca1de370fae",
   "metadata": {},
   "outputs": [],
   "source": [
    "# Jelaskan apa yang anda pahami dari penjelasan di atas\n",
    "# Tipe data utama dalam Python:\n",
    "# - Untuk penggunaan angka menggunakan int\n",
    "# - String (str) untuk penggunaan teks\n",
    "# - List (daftar)\n",
    "# Tipe Data Numerik di Python memiliiki tiga tipe data numerik utama yaitu Integer, Float, Complex.\n",
    "# - Integer (int) tipe data yang menggunakan bilangan bulat tanpa desimal maupun pecahan\n",
    "# - Float tipe data yang digunakan untuk menyimpan angka desimal atau pecahan\n",
    "# - Complex bilangan kompleks adalah bilangan yang memiliki komponen imajiner dan nyata"
   ]
  },
  {
   "cell_type": "markdown",
   "id": "748f86b9-93df-47e0-bd39-39f346d94a65",
   "metadata": {},
   "source": [
    "## **3. Tugas Pendahuluan**  \n",
    "Sebelum memulai praktikum, jawab pertanyaan berikut:  \n",
    "\n",
    "1. **Jelaskan fungsi dan parameter dari sintaks berikut:**  \n",
    "   - `int(x, base)`  \n",
    "   - `float(x)`  \n",
    "   - `complex([real, imag])`  \n",
    "\n",
    "2. **Sebutkan metode lain untuk merepresentasikan tipe data numerik selain `int`, `float`, dan `complex`!**  \n",
    "   *Petunjuk: Bisa menggunakan `decimal` atau `fractions` dari modul Python.*  \n",
    "\n",
    "---\n",
    "\n"
   ]
  },
  {
   "cell_type": "markdown",
   "id": "dc1363a6-04ab-4804-9ae7-f222d06e64a8",
   "metadata": {},
   "source": [
    "#### `Fungsi int` digunakan untuk mengonversi nilai ke dalam tipe data integer (bilangan bulat). x nilai yg ingin dikonversi menjdi integer bisa berupa string/desimal/tipe data yg lain. (base) basis ddri angka yang ingin dikonversi\n",
    "\n",
    "#### `Fungsi float` digunakan untuk mengonversi nilai ke dalam tipe data floating-point (bilangan pecahan). x nilai yg ingin dikonversi jdi tipe data float. bisa berupa angka integer, string yg mewakili angka desimal\n",
    "\n",
    "#### `Fungsi complex` digunakan untuk buat angka kompleks. (real) bagian riil dari angka kompleks. (imag) bagian imajiner dari angka kompleks<br>\n",
    "\n",
    "#### `decimal.Decimal:` Representasi angka desimal dengan presisi tinggi\n",
    "#### `fractions.Fraction:` Representasi angka sebagai pecahan"
   ]
  },
  {
   "cell_type": "markdown",
   "id": "a2bbf7ac-ff63-4155-8dbd-640e4fdeb329",
   "metadata": {},
   "source": [
    "## **4. Percobaan & Latihan**  \n",
    "**Instruksi:**  \n",
    "- Buat program Python berdasarkan langkah-langkah di bawah ini.  \n",
    "- Eksekusi setiap kode dan analisis hasilnya.  \n",
    "- Tuliskan output yang dihasilkan.  \n",
    "\n",
    "### **4.1 Latihan 1 – Operasi Numerik Dasar**  \n",
    "<img src=\"1.jpg\" width=\"550px\" alt=\"Deskripsi Gambar\" />\n",
    "\n",
    "**Analisis:**  \n",
    "- Apa hasil dari setiap operasi di atas?  \n",
    "- Apakah tipe data berubah setelah dikonversi dengan `int()` atau `float()`?  \n",
    "\n",
    "---"
   ]
  },
  {
   "cell_type": "code",
   "execution_count": 101,
   "id": "fde355f5-f7e5-4408-b87c-bfb4f2b91859",
   "metadata": {},
   "outputs": [
    {
     "name": "stdout",
     "output_type": "stream",
     "text": [
      "NIM = 2411102441227\n",
      "39\n",
      "Hb = 49.5\n",
      "49\n",
      "0.7878787878787878\n",
      "False\n",
      "True\n"
     ]
    }
   ],
   "source": [
    "# Ketikan kode dan penjelasan disini!\n",
    "print(\"NIM =\", 2411102441227)\n",
    "\n",
    "x = 12\n",
    "y = 27\n",
    "\n",
    "Ha = x + y # operasi Ha = x + y adalah: Ha = 12 + 27 = 39\n",
    "print(Ha)\n",
    "\n",
    "Hb = Ha + 10.5 # operasi Hb = Ha + 10.5 adalah: Hb = 39 + 10.5 = 49.5\n",
    "print(\"Hb =\", Hb)\n",
    "\n",
    "Hc = int(Hb) # fungsi int untuk mengkonversi nilai Hb yang awal adalah 49.5 (float) menjadi integer\n",
    "print(Hc)\n",
    "\n",
    "Hd = Ha / Hb # operasi pembagian dilakukan antara Ha (39) dan Hb (49.5) = 49\n",
    "print(Hd)\n",
    "\n",
    "print(isinstance(Hd, int)) # memeriksa apakah Hd bertipe data int (integer)\n",
    "print(isinstance(Hd, float)) # memeriksa apakah Hd bertipe data float\n",
    "\n",
    "# Tipe data akan berubah jika dikonversi dengan int atau float,\n",
    "# Mengkonversi nilai yg memiliki tipe data lain (float atau string) ke dlm integer, maka tipe data hasilnya pasti integer\n",
    "# Mengkonversi nilai yg bkn float (integer atau string yg berisi angka), tipe data hasilnya pasti float"
   ]
  },
  {
   "cell_type": "markdown",
   "id": "bf4b16ed-3d15-43af-a2c9-9a9e3e673bab",
   "metadata": {},
   "source": [
    "### **4.2 Latihan 2 – Menghitung Panjang Bit Bilangan Integer**  \n",
    "<img src=\"2.jpg\" width=\"550px\" alt=\"Deskripsi Gambar\" />\n",
    "\n",
    "**Analisis:**  \n",
    "- Berapa jumlah bit yang digunakan untuk setiap bilangan?  \n",
    "- Apa perbedaan antara angka besar dan kecil dalam penggunaan bit?  \n",
    "\n",
    "---\n",
    "\n"
   ]
  },
  {
   "cell_type": "code",
   "execution_count": 63,
   "id": "ecf2371d-3107-4374-905a-55697aa051e5",
   "metadata": {},
   "outputs": [
    {
     "name": "stdout",
     "output_type": "stream",
     "text": [
      "10\n",
      "10\n",
      "7\n",
      "4\n"
     ]
    }
   ],
   "source": [
    "# Ketikan kode dan penjelasan disini!\n",
    "print((999).bit_length()) #10 bit\n",
    "print((998).bit_length()) #10 bit\n",
    "print((99).bit_length()) #7 bit\n",
    "print((11).bit_length()) #4 bit\n",
    "\n",
    "# Angka besar membutuhkan lebih banyak bit dan angka kecil membutuhkan lebih sedikit bit"
   ]
  },
  {
   "cell_type": "markdown",
   "id": "ad7ec3a7-6fd2-4410-9f81-3140438b38c3",
   "metadata": {},
   "source": [
    "### **4.3 Latihan 3 – Representasi Bilangan dalam Format Lain**  \n",
    "<img src=\"3.jpg\" width=\"550px\" alt=\"Deskripsi Gambar\" />\n",
    "\n",
    "**Analisis:**  \n",
    "- Apa hasil dari konversi angka 555 ke biner, hex, dan oktal?  \n",
    "- Bagaimana cara kerja konversi ini dalam Python?  \n",
    "\n",
    "---\n",
    "\n"
   ]
  },
  {
   "cell_type": "code",
   "execution_count": 65,
   "id": "38882d65-2106-485a-85be-bdde8249fafe",
   "metadata": {},
   "outputs": [
    {
     "name": "stdout",
     "output_type": "stream",
     "text": [
      "0b1000101011\n",
      "0x22b\n",
      "0o1053\n"
     ]
    }
   ],
   "source": [
    "# Ketikan kode dan penjelasan disini!\n",
    "i = 555\n",
    "print(bin(i)) # Hasil konversi 0b1000101011 #fungsi ini mengonversi angka desimal ke dalam bentuk biner basis 2\n",
    "                #membagi angka desimal dengn 2 berulang kali, mencatat sisa bagi, hingga hasil bagi mencapai 0\n",
    "print(hex(i)) # Hasil konversi 0x22b #fungsi ini mengonversi angka desimal ke dalam bentuk hexadecimal\n",
    "                #akan membagi angka desimal dengan 16 berulang kali, mencatat sisanya, hingga hasil bagi mencapai 0\n",
    "print(oct(i)) # Hasil konversi 0o1053 #fungsi ini mengonversi angka desimal ke dalam bentuk oktal\n",
    "                #membagi angka desimal dgn 8 berulang kali, mencatat sisanya, hingga hasil bagi mencapai 0"
   ]
  },
  {
   "cell_type": "markdown",
   "id": "2addb275-0449-4ec3-8028-47ce3180b1ec",
   "metadata": {},
   "source": [
    "### **4.4 Studi Literasi**  \n",
    "<img src=\"4.jpg\" width=\"750px\" alt=\"Deskripsi Gambar\" />"
   ]
  },
  {
   "cell_type": "code",
   "execution_count": null,
   "id": "4933481f-f5bb-4fac-85a5-3ea697916d1b",
   "metadata": {},
   "outputs": [],
   "source": [
    "# 1. Analisis Hasil Percobaan\n",
    " ## 2.2, Tipe data numerik Python\n",
    "# > int (Integer) tipe data ini digunakan untuk menyimpan bilangan bulat (angka tanpa desimal).\n",
    "# > float tipe data ini digunakan untuk menyimpan bilangan pecahan atau angka dengan desimal.\n",
    "# > complex (Bilangan Kompleks) tipe data ini digunakan untuk menyimpan bilangan kompleks, yaitu bilangan yang terdiri dari bagian real dan bagian imajiner\n",
    " \n",
    " ## 4.1, Operasi data numerik\n",
    "# Operasi ini berupa tambah, pembagian, konversi nilai int ke float, memeriksa apakah data itu int atau float\n",
    "\n",
    " ## 4.2, Menghitung Panjang Bit Bilangan Integer\n",
    "# Fungsi bit length dalam pemrograman digunakan untuk menghitung jumlah bit yang diperlukan untuk merepresentasikan suatu angka dalam format biner (binary) tanpa tanda (unsigned)\n",
    "\n",
    " ## 4.3, Representasi Bilangan dalam Format Lain\n",
    "# Konversi bilangan dari satu format ke format lain, seperti dari biner ke desimal, desimal ke biner, atau biner ke oktal, dan sebagainya, adalah bagian penting dalam dunia pemrograman dan matematika komputer.\n",
    "\n",
    "# Hasilnya sesuai dengan teori yg dipelajari\n",
    "\n",
    "# 2. Kesimpulan\n",
    " # Praktikum yang saya pelajari hari ini memahami bagaimana cara kerja tipe data numerik python dan penggunaan nya. Mempelajari tipe data utama dlm python seperti int, string dan tipe data numerik utama, int, float, complex.\n",
    " # Penerapan tipe data numerik dlm pemrograman untuk melakukan perhitungan, manipulasi data, dan pengolahan informasi numerik dalam berbagai jenis aplikasi. contohnya penerapan perhitungan matematika.\n",
    " # Contoh menghitung harga total belanja:\n",
    "harga_barang1 = 50000\n",
    "harga_barang2 = 25000\n",
    "harga_barang3 = 15000\n",
    "total_harga = harga_barang1 + harga_barang2 + harga_barang3\n",
    "print(f\"Total harga belanja: Rp. {total_harga}\")\n",
    "\n",
    "#3. Referensi\n",
    " # https://www.coursera.org/in/articles/data-types-of-python #Tanggal akses: 21/02/2025\n",
    " # https://www.w3schools.com/python/python_numbers.asp #Tanggal akses: 21/02/2025"
   ]
  },
  {
   "cell_type": "markdown",
   "id": "100fcace-3efb-42e1-b041-cbded05ccca8",
   "metadata": {},
   "source": [
    "---\n",
    "\n",
    "## **5. Format File Tugas**  \n",
    "- **Tugas dikumpulkan dalam format Jupyter Notebook (`.ipynb`).**  \n",
    "- Gunakan format Markdown untuk dokumentasi di dalam notebook.\n",
    "- Pastikan setiap bagian memiliki heading (`#` untuk judul, `##` untuk subjudul).  \n",
    "- **File tugas diberi nama: `P1_Nama_NIM.ipynb`**  \n",
    "- **🚨 <span style=\"color:darkred; font-weight:bold; font-size:18px;\">PLAGIAT AKAN DIBERI SANKSI TANPA AMPUN! 🚨</span>** "
   ]
  },
  {
   "cell_type": "code",
   "execution_count": null,
   "id": "2d97a5b5-3fa1-4f1a-bf35-f16c856e5bc5",
   "metadata": {},
   "outputs": [],
   "source": []
  }
 ],
 "metadata": {
  "kernelspec": {
   "display_name": "Python 3 (ipykernel)",
   "language": "python",
   "name": "python3"
  },
  "language_info": {
   "codemirror_mode": {
    "name": "ipython",
    "version": 3
   },
   "file_extension": ".py",
   "mimetype": "text/x-python",
   "name": "python",
   "nbconvert_exporter": "python",
   "pygments_lexer": "ipython3",
   "version": "3.12.4"
  },
  "widgets": {
   "application/vnd.jupyter.widget-state+json": {
    "state": {},
    "version_major": 2,
    "version_minor": 0
   }
  }
 },
 "nbformat": 4,
 "nbformat_minor": 5
}
